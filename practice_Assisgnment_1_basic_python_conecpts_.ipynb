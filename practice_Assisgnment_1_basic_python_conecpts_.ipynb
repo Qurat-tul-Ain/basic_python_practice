{
  "nbformat": 4,
  "nbformat_minor": 0,
  "metadata": {
    "colab": {
      "provenance": [],
      "gpuType": "T4",
      "authorship_tag": "ABX9TyP934AyUHsou3zVlb1CQ7It",
      "include_colab_link": true
    },
    "kernelspec": {
      "name": "python3",
      "display_name": "Python 3"
    },
    "language_info": {
      "name": "python"
    },
    "accelerator": "GPU"
  },
  "cells": [
    {
      "cell_type": "markdown",
      "metadata": {
        "id": "view-in-github",
        "colab_type": "text"
      },
      "source": [
        "<a href=\"https://colab.research.google.com/github/Qurat-tul-Ain/basic_python_practice/blob/main/practice_Assisgnment_1_basic_python_conecpts_.ipynb\" target=\"_parent\"><img src=\"https://colab.research.google.com/assets/colab-badge.svg\" alt=\"Open In Colab\"/></a>"
      ]
    },
    {
      "cell_type": "markdown",
      "source": [
        "# # Basic Python Data Types\n",
        "\n",
        "*   Text type -> str\n",
        "*   Numeric type -> int, float, complex\n",
        "*   Sequence Type -> list , tuple, range\n",
        "*   Mapping Type -> Dict\n",
        "*   Boolean Type -> bool (ture, false)\n",
        "*   None type -> None type"
      ],
      "metadata": {
        "id": "dqYQcLYgYVNO"
      }
    },
    {
      "cell_type": "markdown",
      "source": [
        "# Practice of Data Types"
      ],
      "metadata": {
        "id": "GIu4tBaiYeE1"
      }
    },
    {
      "cell_type": "code",
      "source": [
        "a = \"hello world\" # string\n",
        "b = 12  # int\n",
        "c = 12.5 # float\n",
        "d = 1j # complex\n",
        "e = True # bool\n",
        "f = None # NoneType\n",
        "\n",
        "print(a)\n",
        "print(b)\n",
        "print(c)\n",
        "print(d)\n",
        "print(e)\n",
        "print(f)\n"
      ],
      "metadata": {
        "id": "K1wwvFVlYhf3"
      },
      "execution_count": null,
      "outputs": []
    },
    {
      "cell_type": "code",
      "source": [
        "# did not define its perticular datatype\n",
        "\n",
        "x = 9  # x is type if int converting in str\n",
        "x = \"chocolates\"\n",
        "print(x)\n"
      ],
      "metadata": {
        "id": "YXpn_YuyJPpL"
      },
      "execution_count": null,
      "outputs": []
    },
    {
      "cell_type": "code",
      "source": [
        "# data update\n",
        "\n",
        "name = \"str\"\n",
        "name = \"Ahmed\"\n",
        "print(name)\n",
        "\n"
      ],
      "metadata": {
        "colab": {
          "base_uri": "https://localhost:8080/"
        },
        "id": "vaMajNyBDlMB",
        "outputId": "334024f6-b346-4fd4-8d0f-9e3d9ec37853"
      },
      "execution_count": null,
      "outputs": [
        {
          "output_type": "stream",
          "name": "stdout",
          "text": [
            "Ahmed\n"
          ]
        }
      ]
    },
    {
      "cell_type": "code",
      "source": [
        "name = \"Ahmed\"\n",
        "age = 23\n",
        "weight = 45.5\n",
        "# print(name)\n",
        "# print(age)\n",
        "# print(weight)\n",
        "\n",
        "#--------------------------------------------\n",
        "#print(name+age+weight) # line TypeError: can only concatenate str (not \"int\") to str\n",
        "#---------------------------------------------------\n",
        "print(name,age,weight)\n",
        "print(type(name))\n",
        "print(type(age))\n",
        "print(type(weight))"
      ],
      "metadata": {
        "colab": {
          "base_uri": "https://localhost:8080/"
        },
        "id": "SR-cWpGZD2cK",
        "outputId": "c699d71d-d060-4b35-f11a-64fdd032cfb2"
      },
      "execution_count": null,
      "outputs": [
        {
          "output_type": "stream",
          "name": "stdout",
          "text": [
            "Ahmed 23 45.5\n",
            "<class 'str'>\n",
            "<class 'int'>\n",
            "<class 'float'>\n"
          ]
        }
      ]
    },
    {
      "cell_type": "code",
      "source": [
        "# concatinating\n",
        "name = \"Ahmed\"\n",
        "age = \"23\"\n",
        "weight = \"45.5\"\n",
        "print(name+age+weight)"
      ],
      "metadata": {
        "colab": {
          "base_uri": "https://localhost:8080/"
        },
        "id": "y2MQjGFaFAk2",
        "outputId": "f044c07e-35f3-4a7a-9136-b9c1decc1a57"
      },
      "execution_count": null,
      "outputs": [
        {
          "output_type": "stream",
          "name": "stdout",
          "text": [
            "Ahmed2345.5\n"
          ]
        }
      ]
    },
    {
      "cell_type": "code",
      "source": [
        "dict = {\"name\":\"Ahmed\",\"age\":23,\"weight\":45.5}\n",
        "print(dict)\n",
        "print(type(dict))\n",
        "print(dict[\"name\"])\n",
        "print(dict[\"age\"])\n",
        "print(dict[\"weight\"])"
      ],
      "metadata": {
        "colab": {
          "base_uri": "https://localhost:8080/"
        },
        "id": "Ic8RCczYGmuf",
        "outputId": "7aa1e4e1-2762-4495-f634-1725b18fb71d"
      },
      "execution_count": null,
      "outputs": [
        {
          "output_type": "stream",
          "name": "stdout",
          "text": [
            "{'name': 'Ahmed', 'age': 23, 'weight': 45.5}\n",
            "<class 'dict'>\n",
            "Ahmed\n",
            "23\n",
            "45.5\n"
          ]
        }
      ]
    },
    {
      "cell_type": "code",
      "source": [
        "list = [\"Ahmed\",23,45.5]\n",
        "print(list)\n",
        "list = [\"Ahmed\",23,45.5,True] #update\n",
        "print(list)\n",
        "\n",
        "tuple =(\"Ahmed\",23,45.5) #cannot change its value\n",
        "print(tuple)"
      ],
      "metadata": {
        "colab": {
          "base_uri": "https://localhost:8080/"
        },
        "outputId": "871edf9d-d2ac-4330-f610-986ca0acd0ba",
        "id": "0MTXWuH1Zltn"
      },
      "execution_count": null,
      "outputs": [
        {
          "output_type": "stream",
          "name": "stdout",
          "text": [
            "['Ahmed', 23, 45.5]\n",
            "['Ahmed', 23, 45.5, True]\n",
            "('Ahmed', 23, 45.5)\n"
          ]
        }
      ]
    },
    {
      "cell_type": "code",
      "source": [
        "dict = {\"name\":\"Ahmed\",\"age\":23,\"weight\":45.5}\n",
        "print(dict)\n",
        "print(type(dict))\n",
        "print(dict[\"name\"])\n",
        "print(dict[\"age\"])\n",
        "print(dict[\"weight\"])"
      ],
      "metadata": {
        "colab": {
          "base_uri": "https://localhost:8080/"
        },
        "outputId": "7aa1e4e1-2762-4495-f634-1725b18fb71d",
        "id": "pLJ69RgsZW3J"
      },
      "execution_count": null,
      "outputs": [
        {
          "output_type": "stream",
          "name": "stdout",
          "text": [
            "{'name': 'Ahmed', 'age': 23, 'weight': 45.5}\n",
            "<class 'dict'>\n",
            "Ahmed\n",
            "23\n",
            "45.5\n"
          ]
        }
      ]
    },
    {
      "cell_type": "code",
      "source": [
        "for i in range(1,10): #indentation block\n",
        "  print(i)\n",
        "\n",
        "if 10 > 5 :\n",
        "  print(\"10 is greater than 5\")\n"
      ],
      "metadata": {
        "colab": {
          "base_uri": "https://localhost:8080/"
        },
        "id": "5GsxGE6EHPUD",
        "outputId": "086ce771-f104-4657-8ea5-23707c674648"
      },
      "execution_count": null,
      "outputs": [
        {
          "output_type": "stream",
          "name": "stdout",
          "text": [
            "1\n",
            "2\n",
            "3\n",
            "4\n",
            "5\n",
            "6\n",
            "7\n",
            "8\n",
            "9\n",
            "10 is greater than 5\n"
          ]
        }
      ]
    },
    {
      "cell_type": "code",
      "source": [
        "# typecatsing.\n",
        "# Method to declare a veriable in any particular type.\n",
        "\n",
        "x = int(10)\n",
        "y = str('10')\n",
        "z = float(10)\n",
        "\n",
        "print(x)\n",
        "print(y)\n",
        "print(z)"
      ],
      "metadata": {
        "colab": {
          "base_uri": "https://localhost:8080/"
        },
        "id": "KpKyGOwGIcDa",
        "outputId": "f90cbff7-2ba6-4d05-d485-8716ad47d4e6"
      },
      "execution_count": null,
      "outputs": [
        {
          "output_type": "stream",
          "name": "stdout",
          "text": [
            "10\n",
            "10\n",
            "10.0\n"
          ]
        }
      ]
    },
    {
      "cell_type": "code",
      "source": [
        "x = 5\n",
        "y = \"Ahmed\"\n",
        "print(type(x))\n",
        "print(type(y))"
      ],
      "metadata": {
        "colab": {
          "base_uri": "https://localhost:8080/"
        },
        "id": "OmyZ2D3YK4eP",
        "outputId": "8560ea95-5a97-415d-92a6-d2c300368ebd"
      },
      "execution_count": null,
      "outputs": [
        {
          "output_type": "stream",
          "name": "stdout",
          "text": [
            "<class 'int'>\n",
            "<class 'str'>\n"
          ]
        }
      ]
    },
    {
      "cell_type": "markdown",
      "source": [
        "# Multiword Variable"
      ],
      "metadata": {
        "id": "GnVkHOkMZ4Y2"
      }
    },
    {
      "cell_type": "code",
      "source": [
        "#camel case\n",
        "\n",
        "myFavColor = \"blue\"\n",
        "print(myFavColor)\n",
        "\n",
        "#Pascal case\n",
        "\n",
        "MyFavColor = \"Pink\"\n",
        "print(MyFavColor)\n",
        "\n",
        "#snake case\n",
        "\n",
        "my_fav_color = \"Black\"\n",
        "print(my_fav_color)"
      ],
      "metadata": {
        "colab": {
          "base_uri": "https://localhost:8080/"
        },
        "id": "K8PRTIPVLSKA",
        "outputId": "de00c9b2-9131-44f7-f065-f4bcbd10637b"
      },
      "execution_count": null,
      "outputs": [
        {
          "output_type": "stream",
          "name": "stdout",
          "text": [
            "blue\n",
            "Pink\n",
            "Black\n"
          ]
        }
      ]
    },
    {
      "cell_type": "markdown",
      "source": [
        "# Values and Variable\n",
        "Assigning many values to multiple variable\n",
        "\n",
        "\n",
        "*   Assigning many values to multiple variables.\n",
        "*   Assigning one value to multiple variables."
      ],
      "metadata": {
        "id": "PM22sRS9LwSz"
      }
    },
    {
      "cell_type": "code",
      "source": [
        "a,b,c = \"red\",\"blue\",\"yellow\"\n",
        "print(a,b,c)\n",
        "\n",
        "x,y,z = 'I','Love','Pakistan'\n",
        "print(x,y,z)\n",
        "\n",
        "e,f,g = 10,20,30\n",
        "print(e,f,g)"
      ],
      "metadata": {
        "colab": {
          "base_uri": "https://localhost:8080/"
        },
        "id": "0IXdGeZ-LrmD",
        "outputId": "feb3b5c8-0d02-4082-e7a9-0bb610d7b2c3"
      },
      "execution_count": null,
      "outputs": [
        {
          "output_type": "stream",
          "name": "stdout",
          "text": [
            "red blue yellow\n",
            "I Love Pakistan\n",
            "10 20 30\n"
          ]
        }
      ]
    },
    {
      "cell_type": "code",
      "source": [
        "#one value to multiple value\n",
        "\n",
        "a = b = c = \"red\"\n",
        "print(a,b,c)\n",
        "\n",
        "x = y = z = 10\n",
        "print(x,y,z)\n",
        "\n",
        "c= d= e = \"PYTHON\"\n",
        "print(c,d,e)\n"
      ],
      "metadata": {
        "colab": {
          "base_uri": "https://localhost:8080/"
        },
        "id": "_F4pJLgzNCLY",
        "outputId": "fa6c3fba-3ca2-44d3-ee4f-f9387697cc5d"
      },
      "execution_count": null,
      "outputs": [
        {
          "output_type": "stream",
          "name": "stdout",
          "text": [
            "red red red\n",
            "10 10 10\n",
            "PYTHON PYTHON PYTHON\n"
          ]
        }
      ]
    },
    {
      "cell_type": "markdown",
      "source": [
        "#collection unpack\n",
        "*  if you have collection of values(i.e. list or tuple), python allows to extract values into variables.\n",
        "*   Different print to command makes different output,see the examples.\n",
        "\n"
      ],
      "metadata": {
        "id": "7QI-JbsNNzvj"
      }
    },
    {
      "cell_type": "code",
      "source": [
        "fruits = [\"apple\",\"watermelon\",\"blueberry\"]\n",
        "x,y,z = fruits\n",
        "print(x)\n",
        "print(y)\n",
        "print(z)"
      ],
      "metadata": {
        "colab": {
          "base_uri": "https://localhost:8080/"
        },
        "id": "MAGTtiMIOh8y",
        "outputId": "95e07ce1-5d98-4942-ade7-fa9e5f4e9420"
      },
      "execution_count": null,
      "outputs": [
        {
          "output_type": "stream",
          "name": "stdout",
          "text": [
            "apple\n",
            "watermelon\n",
            "blueberry\n"
          ]
        }
      ]
    },
    {
      "cell_type": "code",
      "source": [
        "# different output\n",
        "\n",
        "x ='Python'\n",
        "y = 'is'\n",
        "z = 'favorite language'\n",
        "\n",
        "print(x+y+z)\n",
        "\n",
        "print(x,y,z)"
      ],
      "metadata": {
        "colab": {
          "base_uri": "https://localhost:8080/"
        },
        "id": "EUozaRGQP3fN",
        "outputId": "60b757fa-a725-4de5-ab7b-e0f033f7259f"
      },
      "execution_count": null,
      "outputs": [
        {
          "output_type": "stream",
          "name": "stdout",
          "text": [
            "Pythonisfavorite language\n",
            "Python is favorite language\n"
          ]
        }
      ]
    },
    {
      "cell_type": "markdown",
      "source": [
        "# print () function\n",
        "* print function allows you to add the same type of input.   \n",
        "* it shows error when we try to add or substract different data type.\n",
        "\n"
      ],
      "metadata": {
        "id": "EFVAWK-yRsPE"
      }
    },
    {
      "cell_type": "code",
      "source": [
        "a = 5\n",
        "b = 7\n",
        "print(a+b)\n",
        "\n",
        "d ='Pakistan'\n",
        "e = 1947\n",
        "# print(d + e) #TypeError: can only concatenate str (not \"int\") to str\n",
        "print (d ,e)\n"
      ],
      "metadata": {
        "colab": {
          "base_uri": "https://localhost:8080/"
        },
        "id": "nJO3Y0aeR0Ol",
        "outputId": "0b2df664-c283-474f-fd5a-b760a90b54f8"
      },
      "execution_count": null,
      "outputs": [
        {
          "output_type": "stream",
          "name": "stdout",
          "text": [
            "12\n",
            "Pakistan 1947\n"
          ]
        }
      ]
    }
  ]
}